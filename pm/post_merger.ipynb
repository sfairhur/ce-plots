{
 "cells": [
  {
   "cell_type": "code",
   "execution_count": 7,
   "id": "dca40f3e",
   "metadata": {},
   "outputs": [
    {
     "ename": "NameError",
     "evalue": "name 'ce40' is not defined",
     "output_type": "error",
     "traceback": [
      "\u001b[0;31m---------------------------------------------------------------------------\u001b[0m",
      "\u001b[0;31mNameError\u001b[0m                                 Traceback (most recent call last)",
      "Cell \u001b[0;32mIn[7], line 36\u001b[0m\n\u001b[1;32m     28\u001b[0m flow \u001b[38;5;241m=\u001b[39m \u001b[38;5;241m20\u001b[39m\n\u001b[1;32m     29\u001b[0m asharp \u001b[38;5;241m=\u001b[39m pycbc\u001b[38;5;241m.\u001b[39mpsd\u001b[38;5;241m.\u001b[39mfrom_txt(\u001b[38;5;124m'\u001b[39m\u001b[38;5;124m../plots/ligo_strain/Asharp_strain.txt\u001b[39m\u001b[38;5;124m'\u001b[39m,\n\u001b[1;32m     30\u001b[0m                             flen, df, flow)\n\u001b[1;32m     32\u001b[0m psds \u001b[38;5;241m=\u001b[39m {\n\u001b[1;32m     33\u001b[0m     \u001b[38;5;124m'\u001b[39m\u001b[38;5;124mH1\u001b[39m\u001b[38;5;124m'\u001b[39m:asharp,\n\u001b[1;32m     34\u001b[0m     \u001b[38;5;124m'\u001b[39m\u001b[38;5;124mL1\u001b[39m\u001b[38;5;124m'\u001b[39m:asharp,\n\u001b[1;32m     35\u001b[0m     \u001b[38;5;124m'\u001b[39m\u001b[38;5;124mI1\u001b[39m\u001b[38;5;124m'\u001b[39m:asharp,\n\u001b[0;32m---> 36\u001b[0m     \u001b[38;5;124m'\u001b[39m\u001b[38;5;124mC1\u001b[39m\u001b[38;5;124m'\u001b[39m:\u001b[43mce40\u001b[49m,\n\u001b[1;32m     37\u001b[0m     \u001b[38;5;124m'\u001b[39m\u001b[38;5;124mC2\u001b[39m\u001b[38;5;124m'\u001b[39m:ce20,\n\u001b[1;32m     38\u001b[0m     \u001b[38;5;124m'\u001b[39m\u001b[38;5;124mC3\u001b[39m\u001b[38;5;124m'\u001b[39m:ce20,\n\u001b[1;32m     39\u001b[0m     \u001b[38;5;124m'\u001b[39m\u001b[38;5;124mE1\u001b[39m\u001b[38;5;124m'\u001b[39m:et,\n\u001b[1;32m     40\u001b[0m     \u001b[38;5;124m'\u001b[39m\u001b[38;5;124mE2\u001b[39m\u001b[38;5;124m'\u001b[39m:et,\n\u001b[1;32m     41\u001b[0m     \u001b[38;5;124m'\u001b[39m\u001b[38;5;124mE3\u001b[39m\u001b[38;5;124m'\u001b[39m:et,\n\u001b[1;32m     42\u001b[0m }\n\u001b[1;32m     44\u001b[0m networks \u001b[38;5;241m=\u001b[39m [\n\u001b[1;32m     45\u001b[0m     [\u001b[38;5;124m'\u001b[39m\u001b[38;5;124mH1\u001b[39m\u001b[38;5;124m'\u001b[39m, \u001b[38;5;124m'\u001b[39m\u001b[38;5;124mL1\u001b[39m\u001b[38;5;124m'\u001b[39m, \u001b[38;5;124m'\u001b[39m\u001b[38;5;124mI1\u001b[39m\u001b[38;5;124m'\u001b[39m],\n\u001b[1;32m     46\u001b[0m     [\u001b[38;5;124m'\u001b[39m\u001b[38;5;124mC1\u001b[39m\u001b[38;5;124m'\u001b[39m, \u001b[38;5;124m'\u001b[39m\u001b[38;5;124mL1\u001b[39m\u001b[38;5;124m'\u001b[39m, \u001b[38;5;124m'\u001b[39m\u001b[38;5;124mI1\u001b[39m\u001b[38;5;124m'\u001b[39m],\n\u001b[0;32m   (...)\u001b[0m\n\u001b[1;32m     51\u001b[0m     [\u001b[38;5;124m'\u001b[39m\u001b[38;5;124mC1\u001b[39m\u001b[38;5;124m'\u001b[39m, \u001b[38;5;124m'\u001b[39m\u001b[38;5;124mC3\u001b[39m\u001b[38;5;124m'\u001b[39m, \u001b[38;5;124m'\u001b[39m\u001b[38;5;124mE1\u001b[39m\u001b[38;5;124m'\u001b[39m, \u001b[38;5;124m'\u001b[39m\u001b[38;5;124mE2\u001b[39m\u001b[38;5;124m'\u001b[39m, \u001b[38;5;124m'\u001b[39m\u001b[38;5;124mE3\u001b[39m\u001b[38;5;124m'\u001b[39m],\n\u001b[1;32m     52\u001b[0m ]\n",
      "\u001b[0;31mNameError\u001b[0m: name 'ce40' is not defined"
     ]
    }
   ],
   "source": [
    "from pycbc.detector import add_detector_on_earth\n",
    "import pycbc.psd\n",
    "import numpy as np\n",
    "\n",
    "# Set up CE detector locations\n",
    "lon = -125 / 180.0 * np.pi\n",
    "lat = 46 / 180.0 * np.pi\n",
    "yangle = 100.0 / 180.0 * np.pi\n",
    "add_detector_on_earth(\"C1\", lon, lat, yangle=yangle,\n",
    "                      xlength=40000, ylength=40000)\n",
    "add_detector_on_earth(\"C2\", lon, lat, yangle=yangle,\n",
    "                      xlength=40000, ylength=40000)\n",
    "\n",
    "lon = -94 / 180.0 * np.pi\n",
    "lat = 29 / 180.0 * np.pi\n",
    "yangle = 160.0 / 180.0 * np.pi\n",
    "add_detector_on_earth(\"C3\", lon, lat, yangle=yangle,\n",
    "                      xlength=40000, ylength=40000)\n",
    "\n",
    "\n",
    "# Set up PSDs\n",
    "slen = 1\n",
    "srate = 10000\n",
    "tlen = slen * srate\n",
    "flen = tlen // 2 + 1\n",
    "df = 1.0 / slen\n",
    "dt = 1.0 / srate\n",
    "flow = 20\n",
    "\n",
    "asharp = pycbc.psd.from_txt('../plots/ligo_strain/Asharp_strain.txt',\n",
    "                            flen, df, flow)\n",
    "ce40 = pycbc.psd.from_txt('../plots/ce_strain/cosmic_explorer_strain.txt',\n",
    "                         flen, df, flow)\n",
    "ce20 = pycbc.psd.from_txt('../plots/ce_strain/cosmic_explorer_20km_pm_strain.txt',\n",
    "                         flen, df, flow)\n",
    "et = pycbc.psd.from_txt('../plots/ce_strain/cosmic_explorer_20km_pm_strain.txt',\n",
    "                         flen, df, flow)\n",
    "psds = {\n",
    "    'H1':asharp,\n",
    "    'L1':asharp,\n",
    "    'I1':asharp,\n",
    "    'C1':ce40,\n",
    "    'C2':ce20,\n",
    "    'C3':ce20,\n",
    "    'E1':et,\n",
    "    'E2':et,\n",
    "    'E3':et,\n",
    "}\n",
    "\n",
    "networks = [\n",
    "    ['H1', 'L1', 'I1'],\n",
    "    ['C1', 'L1', 'I1'],\n",
    "    ['C1', 'L1', 'I1'],\n",
    "    ['C1', 'C3', 'I1'],\n",
    "    ['C1', 'L1', 'E1', 'E2', 'E3'],\n",
    "    ['C2', 'L1', 'E1', 'E2', 'E3'],\n",
    "    ['C1', 'C3', 'E1', 'E2', 'E3'],\n",
    "]\n",
    "\n"
   ]
  },
  {
   "cell_type": "code",
   "execution_count": null,
   "id": "91e29482",
   "metadata": {},
   "outputs": [],
   "source": []
  }
 ],
 "metadata": {
  "kernelspec": {
   "display_name": "Python 3 (ipykernel)",
   "language": "python",
   "name": "python3"
  },
  "language_info": {
   "codemirror_mode": {
    "name": "ipython",
    "version": 3
   },
   "file_extension": ".py",
   "mimetype": "text/x-python",
   "name": "python",
   "nbconvert_exporter": "python",
   "pygments_lexer": "ipython3",
   "version": "3.11.3"
  }
 },
 "nbformat": 4,
 "nbformat_minor": 5
}
