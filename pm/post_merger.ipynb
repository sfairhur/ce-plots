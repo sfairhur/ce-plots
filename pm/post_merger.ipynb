{
 "cells": [
  {
   "cell_type": "code",
   "execution_count": 26,
   "id": "dca40f3e",
   "metadata": {},
   "outputs": [
    {
     "name": "stderr",
     "output_type": "stream",
     "text": [
      "WARNING:root:Requested number of samples exceeds the highest available frequency in the input data, will use max available frequency instead. (requested 5000.000000 Hz, available 5000.000000 Hz)\n",
      "WARNING:root:Requested number of samples exceeds the highest available frequency in the input data, will use max available frequency instead. (requested 5000.000000 Hz, available 5000.000000 Hz)\n"
     ]
    }
   ],
   "source": [
    "from pycbc.detector import add_detector_on_earth\n",
    "import pycbc.psd\n",
    "import numpy as np\n",
    "\n",
    "# Set up CE detector locations\n",
    "lon = -125 / 180.0 * np.pi\n",
    "lat = 46 / 180.0 * np.pi\n",
    "yangle = 100.0 / 180.0 * np.pi\n",
    "add_detector_on_earth(\"C1\", lon, lat, yangle=yangle,\n",
    "                      xlength=40000, ylength=40000)\n",
    "add_detector_on_earth(\"C2\", lon, lat, yangle=yangle,\n",
    "                      xlength=40000, ylength=40000)\n",
    "\n",
    "lon = -94 / 180.0 * np.pi\n",
    "lat = 29 / 180.0 * np.pi\n",
    "yangle = 160.0 / 180.0 * np.pi\n",
    "add_detector_on_earth(\"C3\", lon, lat, yangle=yangle,\n",
    "                      xlength=40000, ylength=40000)\n",
    "\n",
    "\n",
    "# Set up PSDs\n",
    "slen = 1\n",
    "srate = 10000\n",
    "tlen = slen * srate\n",
    "flen = tlen // 2 + 1\n",
    "df = 1.0 / slen\n",
    "dt = 1.0 / srate\n",
    "flow = 20\n",
    "\n",
    "asharp = pycbc.psd.from_txt('../ligo_strain/Asharp_strain.txt',\n",
    "                            flen, df, flow)\n",
    "ce40 = pycbc.psd.from_txt('../ce_strain/cosmic_explorer_strain.txt',\n",
    "                         flen, df, flow)\n",
    "ce20 = pycbc.psd.from_txt('../ce_strain/cosmic_explorer_20km_pm_strain.txt',\n",
    "                         flen, df, flow)\n",
    "et = pycbc.psd.from_txt('./ET-0000A-18_ETDSensitivityCurveTxtFile.txt',\n",
    "                         flen, df, flow)\n",
    "psds = {\n",
    "    'H1':asharp,\n",
    "    'L1':asharp,\n",
    "    'I1':asharp,\n",
    "    'C1':ce40,\n",
    "    'C2':ce20,\n",
    "    'C3':ce20,\n",
    "    'E1':et,\n",
    "    'E2':et,\n",
    "    'E3':et,\n",
    "}\n",
    "\n",
    "networks = [\n",
    "    ['H1', 'L1', 'I1'],\n",
    "    ['C1', 'L1', 'I1'],\n",
    "    ['C1', 'L1', 'I1'],\n",
    "    ['C1', 'C3', 'I1'],\n",
    "    ['C1', 'L1', 'E1', 'E2', 'E3'],\n",
    "    ['C2', 'L1', 'E1', 'E2', 'E3'],\n",
    "    ['C1', 'C3', 'E1', 'E2', 'E3'],\n",
    "]\n"
   ]
  },
  {
   "cell_type": "code",
   "execution_count": 27,
   "id": "91e29482",
   "metadata": {},
   "outputs": [],
   "source": [
    "from pycbc.distributions import (SinAngle,\n",
    "                                 UniformSky,\n",
    "                                 UniformAngle, \n",
    "                                 UniformRadius,\n",
    "                                )\n",
    "mcsize = int(1e3)\n",
    "sky = UniformSky().rvs(mcsize)\n",
    "inc = SinAngle(inclination=None).rvs(mcsize)\n",
    "pol = UniformAngle(polarization=None).rvs(mcsize)\n",
    "dist = UniformRadius(diastance=(1, 500)).rvs(mcsize)\n",
    "\n",
    "\n"
   ]
  },
  {
   "cell_type": "code",
   "execution_count": null,
   "id": "0f0b61d5",
   "metadata": {},
   "outputs": [],
   "source": []
  }
 ],
 "metadata": {
  "kernelspec": {
   "display_name": "Python 3 (ipykernel)",
   "language": "python",
   "name": "python3"
  },
  "language_info": {
   "codemirror_mode": {
    "name": "ipython",
    "version": 3
   },
   "file_extension": ".py",
   "mimetype": "text/x-python",
   "name": "python",
   "nbconvert_exporter": "python",
   "pygments_lexer": "ipython3",
   "version": "3.11.3"
  }
 },
 "nbformat": 4,
 "nbformat_minor": 5
}
